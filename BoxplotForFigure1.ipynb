{
 "cells": [
  {
   "cell_type": "code",
   "execution_count": 1,
   "id": "e3ccbaa2-8f5b-4408-8033-ed1f716f6718",
   "metadata": {},
   "outputs": [
    {
     "name": "stdout",
     "output_type": "stream",
     "text": [
      "hello\n"
     ]
    }
   ],
   "source": [
    "print(\"hello\")"
   ]
  },
  {
   "cell_type": "code",
   "execution_count": 32,
   "id": "f0a32801-56fa-495a-a0a9-d5b9fe64cea8",
   "metadata": {},
   "outputs": [],
   "source": [
    "import pandas as pd\n",
    "import seaborn as sns\n",
    "import matplotlib.pyplot as plt"
   ]
  },
  {
   "cell_type": "code",
   "execution_count": 13,
   "id": "65514ea5-ca1e-4a9e-ab4d-b9e24875972e",
   "metadata": {},
   "outputs": [],
   "source": [
    "df = pd.read_csv('folds_cumc.csv')"
   ]
  },
  {
   "cell_type": "code",
   "execution_count": 71,
   "id": "f1abf3ef-9449-41e8-9e34-0c5e10632c26",
   "metadata": {},
   "outputs": [],
   "source": [
    "filtered_df = df.query(\"learning_algorithm == 'Logistic Regression' or learning_algorithm == 'XGBoost'\")\n",
    "filtered_df = filtered_df.rename(columns={\n",
    "    'cohort': 'Years Prior to Diagnosis',\n",
    "    'auprc': 'Area Under Precision-Recall Curve',\n",
    "    'learning_algorithm': 'Machine Learning Algorithm'\n",
    "})"
   ]
  },
  {
   "cell_type": "code",
   "execution_count": 73,
   "id": "8087a137-bb76-4085-a8a3-a3f5d00de657",
   "metadata": {},
   "outputs": [
    {
     "name": "stdout",
     "output_type": "stream",
     "text": [
      "    fold  Area Under Precision-Recall Curve  Years Prior to Diagnosis  \\\n",
      "0      0                           0.636264                         0   \n",
      "1      1                           0.660289                         0   \n",
      "2      2                           0.677693                         0   \n",
      "3      3                           0.662076                         0   \n",
      "4      4                           0.626657                         0   \n",
      "5      0                           0.692598                         1   \n",
      "6      1                           0.680995                         1   \n",
      "7      2                           0.687568                         1   \n",
      "8      3                           0.724978                         1   \n",
      "9      4                           0.685541                         1   \n",
      "10     0                           0.724429                         2   \n",
      "11     1                           0.729283                         2   \n",
      "12     2                           0.736371                         2   \n",
      "13     3                           0.773645                         2   \n",
      "14     4                           0.738289                         2   \n",
      "15     0                           0.750212                         3   \n",
      "16     1                           0.784775                         3   \n",
      "17     2                           0.749894                         3   \n",
      "18     3                           0.828941                         3   \n",
      "19     4                           0.762879                         3   \n",
      "20     0                           0.839667                         4   \n",
      "21     1                           0.816467                         4   \n",
      "22     2                           0.800809                         4   \n",
      "23     3                           0.779776                         4   \n",
      "24     4                           0.834248                         4   \n",
      "25     0                           0.976394                         5   \n",
      "26     1                           0.965235                         5   \n",
      "27     2                           0.982435                         5   \n",
      "28     3                           0.959249                         5   \n",
      "29     4                           0.977641                         5   \n",
      "60     0                           0.697419                         0   \n",
      "61     1                           0.618356                         0   \n",
      "62     2                           0.646078                         0   \n",
      "63     3                           0.639157                         0   \n",
      "64     4                           0.725918                         0   \n",
      "65     0                           0.702247                         1   \n",
      "66     1                           0.700714                         1   \n",
      "67     2                           0.703636                         1   \n",
      "68     3                           0.737541                         1   \n",
      "69     4                           0.681701                         1   \n",
      "70     0                           0.769383                         2   \n",
      "71     1                           0.773779                         2   \n",
      "72     2                           0.812001                         2   \n",
      "73     3                           0.756949                         2   \n",
      "74     4                           0.779741                         2   \n",
      "75     0                           0.792288                         3   \n",
      "76     1                           0.838954                         3   \n",
      "77     2                           0.775885                         3   \n",
      "78     3                           0.784445                         3   \n",
      "79     4                           0.782427                         3   \n",
      "80     0                           0.810150                         4   \n",
      "81     1                           0.817828                         4   \n",
      "82     2                           0.845569                         4   \n",
      "83     3                           0.830504                         4   \n",
      "84     4                           0.828189                         4   \n",
      "85     0                           0.973274                         5   \n",
      "86     1                           0.981334                         5   \n",
      "87     2                           0.982439                         5   \n",
      "88     3                           0.957285                         5   \n",
      "89     4                           0.974426                         5   \n",
      "\n",
      "   Machine Learning Algorithm  Unnamed: 4  \n",
      "0         Logistic Regression           0  \n",
      "1         Logistic Regression           0  \n",
      "2         Logistic Regression           0  \n",
      "3         Logistic Regression           0  \n",
      "4         Logistic Regression           0  \n",
      "5         Logistic Regression           0  \n",
      "6         Logistic Regression           0  \n",
      "7         Logistic Regression           0  \n",
      "8         Logistic Regression           0  \n",
      "9         Logistic Regression           0  \n",
      "10        Logistic Regression           0  \n",
      "11        Logistic Regression           0  \n",
      "12        Logistic Regression           0  \n",
      "13        Logistic Regression           0  \n",
      "14        Logistic Regression           0  \n",
      "15        Logistic Regression           0  \n",
      "16        Logistic Regression           0  \n",
      "17        Logistic Regression           0  \n",
      "18        Logistic Regression           0  \n",
      "19        Logistic Regression           0  \n",
      "20        Logistic Regression           0  \n",
      "21        Logistic Regression           0  \n",
      "22        Logistic Regression           0  \n",
      "23        Logistic Regression           0  \n",
      "24        Logistic Regression           0  \n",
      "25        Logistic Regression           0  \n",
      "26        Logistic Regression           0  \n",
      "27        Logistic Regression           0  \n",
      "28        Logistic Regression           0  \n",
      "29        Logistic Regression           0  \n",
      "60                    XGBoost           2  \n",
      "61                    XGBoost           2  \n",
      "62                    XGBoost           2  \n",
      "63                    XGBoost           2  \n",
      "64                    XGBoost           2  \n",
      "65                    XGBoost           2  \n",
      "66                    XGBoost           2  \n",
      "67                    XGBoost           2  \n",
      "68                    XGBoost           2  \n",
      "69                    XGBoost           2  \n",
      "70                    XGBoost           2  \n",
      "71                    XGBoost           2  \n",
      "72                    XGBoost           2  \n",
      "73                    XGBoost           2  \n",
      "74                    XGBoost           2  \n",
      "75                    XGBoost           2  \n",
      "76                    XGBoost           2  \n",
      "77                    XGBoost           2  \n",
      "78                    XGBoost           2  \n",
      "79                    XGBoost           2  \n",
      "80                    XGBoost           2  \n",
      "81                    XGBoost           2  \n",
      "82                    XGBoost           2  \n",
      "83                    XGBoost           2  \n",
      "84                    XGBoost           2  \n",
      "85                    XGBoost           2  \n",
      "86                    XGBoost           2  \n",
      "87                    XGBoost           2  \n",
      "88                    XGBoost           2  \n",
      "89                    XGBoost           2  \n"
     ]
    }
   ],
   "source": [
    "print(filtered_df)"
   ]
  },
  {
   "cell_type": "code",
   "execution_count": 89,
   "id": "92131001-eb1f-41c2-92ad-349a47b0a401",
   "metadata": {},
   "outputs": [
    {
     "data": {
      "text/plain": [
       "<Figure size 1000x600 with 0 Axes>"
      ]
     },
     "metadata": {},
     "output_type": "display_data"
    },
    {
     "data": {
      "image/png": "[encoded data removed]",
      "text/plain": [
       "<Figure size 1000x600 with 1 Axes>"
      ]
     },
     "metadata": {},
     "output_type": "display_data"
    }
   ],
   "source": [
    "plt.figure(figsize=(10,6))\n",
    "sns.boxplot(\n",
    "\n",
    "    x = 'Years Prior to Diagnosis',\n",
    "    y = 'Area Under Precision-Recall Curve',\n",
    "    hue = 'Machine Learning Algorithm',\n",
    "    data = filtered_df,\n",
    "    palette = {'Logistic Regression': 'blue', 'XGBoost': 'pink'}\n",
    ")\n",
    "new_labels = [3, 2.5, 2, 1.5, 1, 0.5] \n",
    "plt.xticks(ticks=range(len(new_labels)), labels=new_labels)\n",
    "plt.legend(title = 'Machine Learning Algorithm')\n",
    "plt.title('Perfomance of Machine Learning Models')\n",
    "plt.show()"
   ]
  },
  {
   "cell_type": "code",
   "execution_count": null,
   "id": "fa48883e-cb9f-4483-a9c3-24709b67b1f1",
   "metadata": {},
   "outputs": [],
   "source": []
  },
  {
   "cell_type": "code",
   "execution_count": null,
   "id": "4c9dbc08-efa8-4cb8-9449-62fab6cd946e",
   "metadata": {},
   "outputs": [],
   "source": []
  },
  {
   "cell_type": "code",
   "execution_count": 51,
   "id": "51988fe4-c0c0-4f3e-9fff-921611d728f9",
   "metadata": {},
   "outputs": [
    {
     "name": "stdout",
     "output_type": "stream",
     "text": [
      "goodbye\n"
     ]
    }
   ],
   "source": [
    "print(\"goodbye\")"
   ]
  },
  {
   "cell_type": "code",
   "execution_count": null,
   "id": "3449bce2-21d3-4ca6-8502-dbd089073b21",
   "metadata": {},
   "outputs": [],
   "source": []
  }
 ],
 "metadata": {
  "kernelspec": {
   "display_name": "Python 3 (ipykernel)",
   "language": "python",
   "name": "python3"
  },
  "language_info": {
   "codemirror_mode": {
    "name": "ipython",
    "version": 3
   },
   "file_extension": ".py",
   "mimetype": "text/x-python",
   "name": "python",
   "nbconvert_exporter": "python",
   "pygments_lexer": "ipython3",
   "version": "3.11.7"
  }
 },
 "nbformat": 4,
 "nbformat_minor": 5
}
