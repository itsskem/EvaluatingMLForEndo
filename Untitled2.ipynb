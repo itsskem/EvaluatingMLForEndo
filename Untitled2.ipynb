{
 "cells": [
  {
   "cell_type": "code",
   "execution_count": 290,
   "id": "bc7578ed-7090-48bd-8f14-38e237210d40",
   "metadata": {},
   "outputs": [],
   "source": [
    "import pandas as pd\n",
    "import matplotlib.pyplot as plt"
   ]
  },
  {
   "cell_type": "code",
   "execution_count": 292,
   "id": "a122454d-858f-4e54-9b37-ba17f734709b",
   "metadata": {},
   "outputs": [],
   "source": [
    "race_mapping = {\n",
    "    8516: \"Black\",\n",
    "    8527: \"White\",\n",
    "    8657: \"Native American\", \n",
    "    8515: \"Asian\",\n",
    "    8557: \"Native Hawaiian\",\n",
    "    0: \"Unknown\"\n",
    "}\n",
    "\n",
    "ethnicity_mapping = {\n",
    "    38003564: \"Not Hispanic or Latino\",\n",
    "    38003563: \"Hispanic or Latino\",\n",
    "    0: \"Unknown\"\n",
    "}"
   ]
  },
  {
   "cell_type": "code",
   "execution_count": 294,
   "id": "ec71820c-cf1b-4751-bf03-1184bb7e9423",
   "metadata": {},
   "outputs": [],
   "source": [
    "age_bins = [15, 20, 25, 30, 35, 40, 45, 50]\n",
    "age_labels = ['15-19', '20-24', '25-29', '30-34', '35-39', '40-44', '45-49']\n",
    "\n"
   ]
  },
  {
   "cell_type": "code",
   "execution_count": 296,
   "id": "6b8eb25a-c234-4f3a-915b-2af30109d4c1",
   "metadata": {},
   "outputs": [],
   "source": [
    "df = pd.read_csv('cohort_3_lin.csv')"
   ]
  },
  {
   "cell_type": "code",
   "execution_count": 298,
   "id": "06bf85b5-b647-4efe-8c1c-ea7ef2a1af56",
   "metadata": {},
   "outputs": [],
   "source": [
    "df['race_concept_id'] =  df['race_concept_id'].map(race_mapping)\n",
    "df['ethnicity_concept_id'] = df['ethnicity_concept_id'].map(ethnicity_mapping)"
   ]
  },
  {
   "cell_type": "code",
   "execution_count": 300,
   "id": "3d1a515a-26c5-4807-8802-3761cf6194d2",
   "metadata": {},
   "outputs": [],
   "source": [
    "df['age_range'] = pd.cut(df['age'], bins=age_bins, labels=age_labels, right=False)"
   ]
  },
  {
   "cell_type": "code",
   "execution_count": 302,
   "id": "fb99ec7d-ea98-4679-b171-03067f1de3cd",
   "metadata": {},
   "outputs": [],
   "source": [
    "df.to_csv('updated_cohort_3_lin.csv', index = False)"
   ]
  },
  {
   "cell_type": "code",
   "execution_count": 304,
   "id": "2080f462-2780-4d64-9cd2-8f5959ac032f",
   "metadata": {
    "scrolled": true
   },
   "outputs": [
    {
     "name": "stdout",
     "output_type": "stream",
     "text": [
      "      Unnamed: 0  subject_id  year_of_birth  age race_concept_id  \\\n",
      "0              0     6146755           1970   48           Black   \n",
      "1              1     6224673           1969   49           White   \n",
      "2              2     3217106           1979   39         Unknown   \n",
      "3              3     4803844           1974   44         Unknown   \n",
      "4              4      904744           1973   45           White   \n",
      "...          ...         ...            ...  ...             ...   \n",
      "7347        7347     2081482           1972   46           Asian   \n",
      "7348        7348     2083922           2002   16         Unknown   \n",
      "7349        7349     2090068           1983   35           White   \n",
      "7350        7350     2091318           1977   41         Unknown   \n",
      "7351        7351     2091938           1985   33         Unknown   \n",
      "\n",
      "        ethnicity_concept_id  inpt_ct  ed_ct  outpt_ct  class  output  \\\n",
      "0     Not Hispanic or Latino        0      0         0      1       0   \n",
      "1     Not Hispanic or Latino        0      0         0      1       0   \n",
      "2                    Unknown        0      0         4      1       0   \n",
      "3                    Unknown        0      0         0      1       0   \n",
      "4                    Unknown        0      0         0      1       0   \n",
      "...                      ...      ...    ...       ...    ...     ...   \n",
      "7347                 Unknown        1      0        11      0       0   \n",
      "7348      Hispanic or Latino        0      0         4      0       1   \n",
      "7349      Hispanic or Latino        0      4         2      0       1   \n",
      "7350      Hispanic or Latino        0      0        11      0       0   \n",
      "7351      Hispanic or Latino        0      0        35      0       0   \n",
      "\n",
      "     age_range  \n",
      "0        45-49  \n",
      "1        45-49  \n",
      "2        35-39  \n",
      "3        40-44  \n",
      "4        45-49  \n",
      "...        ...  \n",
      "7347     45-49  \n",
      "7348     15-19  \n",
      "7349     35-39  \n",
      "7350     40-44  \n",
      "7351     30-34  \n",
      "\n",
      "[7352 rows x 12 columns]\n"
     ]
    }
   ],
   "source": [
    "print(df)"
   ]
  },
  {
   "cell_type": "code",
   "execution_count": 306,
   "id": "a534c877-51d0-48d3-be2f-865b27ba2b94",
   "metadata": {},
   "outputs": [
    {
     "name": "stdout",
     "output_type": "stream",
     "text": [
      "      Unnamed: 0  subject_id  year_of_birth  age race_concept_id  \\\n",
      "8              8     2826870           1977   41           White   \n",
      "9              9     5870778           1977   41         Unknown   \n",
      "11            11     5704118           1970   48         Unknown   \n",
      "14            14     2930218           1980   38           White   \n",
      "15            15     5995498           1974   44           Asian   \n",
      "...          ...         ...            ...  ...             ...   \n",
      "7335        7335     2060275           1978   40         Unknown   \n",
      "7341        7341     2069556           1939   79           White   \n",
      "7343        7343     2070744           1976   42         Unknown   \n",
      "7348        7348     2083922           2002   16         Unknown   \n",
      "7349        7349     2090068           1983   35           White   \n",
      "\n",
      "        ethnicity_concept_id  inpt_ct  ed_ct  outpt_ct  class  output  \\\n",
      "8     Not Hispanic or Latino        0      0         0      1       1   \n",
      "9                    Unknown        0      0         0      1       1   \n",
      "11    Not Hispanic or Latino        0      0         0      1       1   \n",
      "14    Not Hispanic or Latino        0      0         7      1       1   \n",
      "15                   Unknown        0      0         0      1       1   \n",
      "...                      ...      ...    ...       ...    ...     ...   \n",
      "7335      Hispanic or Latino        0      1        19      0       1   \n",
      "7341  Not Hispanic or Latino        1      0        17      0       1   \n",
      "7343                 Unknown        0      0        11      0       1   \n",
      "7348      Hispanic or Latino        0      0         4      0       1   \n",
      "7349      Hispanic or Latino        0      4         2      0       1   \n",
      "\n",
      "     age_range  \n",
      "8        40-44  \n",
      "9        40-44  \n",
      "11       45-49  \n",
      "14       35-39  \n",
      "15       40-44  \n",
      "...        ...  \n",
      "7335     40-44  \n",
      "7341       NaN  \n",
      "7343     40-44  \n",
      "7348     15-19  \n",
      "7349     35-39  \n",
      "\n",
      "[1552 rows x 12 columns]\n"
     ]
    }
   ],
   "source": [
    "filtered_df = df.query('output == 1')\n",
    "print(filtered_df)"
   ]
  },
  {
   "cell_type": "code",
   "execution_count": 308,
   "id": "e838242c-f917-4d21-ad5b-e2b7773aece8",
   "metadata": {},
   "outputs": [
    {
     "name": "stdout",
     "output_type": "stream",
     "text": [
      "race_concept_id\n",
      "Unknown            678\n",
      "White              484\n",
      "Black              288\n",
      "Asian               80\n",
      "Native Hawaiian     12\n",
      "Native American      3\n",
      "Name: count, dtype: int64\n",
      "\n",
      "ethnicity_concept_id\n",
      "Not Hispanic or Latino    676\n",
      "Hispanic or Latino        587\n",
      "Unknown                   289\n",
      "Name: count, dtype: int64\n"
     ]
    }
   ],
   "source": [
    "total_population = len(filtered_df)\n",
    "race_count = filtered_df['race_concept_id'].value_counts()\n",
    "ethnicity_count = filtered_df['ethnicity_concept_id'].value_counts()\n",
    "age_count = filtered_df['age_range'].value_counts().sort_index()\n",
    "print(race_count)\n",
    "print()\n",
    "print(ethnicity_count)"
   ]
  },
  {
   "cell_type": "code",
   "execution_count": 310,
   "id": "94eb19ad-ec30-4ccb-83c3-1fee47bff76c",
   "metadata": {},
   "outputs": [
    {
     "name": "stdout",
     "output_type": "stream",
     "text": [
      "                 Count  Percentage\n",
      "race_concept_id                   \n",
      "Unknown            678   43.685567\n",
      "White              484   31.185567\n",
      "Black              288   18.556701\n",
      "Asian               80    5.154639\n",
      "Native Hawaiian     12    0.773196\n",
      "Native American      3    0.193299\n",
      "                        Count  Percentage\n",
      "ethnicity_concept_id                     \n",
      "Not Hispanic or Latino    676   43.556701\n",
      "Hispanic or Latino        587   37.822165\n",
      "Unknown                   289   18.621134\n",
      "           Count  Percentage\n",
      "age_range                   \n",
      "15-19         39    2.512887\n",
      "20-24         59    3.801546\n",
      "25-29         82    5.283505\n",
      "30-34        181   11.662371\n",
      "35-39        385   24.806701\n",
      "40-44        417   26.868557\n",
      "45-49        321   20.682990\n"
     ]
    }
   ],
   "source": [
    "race_statistics = pd.DataFrame({'Count': race_count, 'Percentage': ((race_count/total_population) * 100)})\n",
    "ethnicity_statistics = pd.DataFrame({'Count': ethnicity_count, 'Percentage': ((ethnicity_count/total_population) * 100)})\n",
    "age_statistics = pd.DataFrame({'Count': age_count, 'Percentage': ((age_count/total_population) * 100)})\n",
    "\n",
    "print(race_statistics)\n",
    "print(ethnicity_statistics)\n",
    "print(age_statistics)"
   ]
  },
  {
   "cell_type": "code",
   "execution_count": null,
   "id": "0c9bb0c9-a592-4c99-9a0a-f4dbbbfe17dc",
   "metadata": {},
   "outputs": [],
   "source": []
  }
 ],
 "metadata": {
  "kernelspec": {
   "display_name": "Python 3 (ipykernel)",
   "language": "python",
   "name": "python3"
  },
  "language_info": {
   "codemirror_mode": {
    "name": "ipython",
    "version": 3
   },
   "file_extension": ".py",
   "mimetype": "text/x-python",
   "name": "python",
   "nbconvert_exporter": "python",
   "pygments_lexer": "ipython3",
   "version": "3.11.7"
  }
 },
 "nbformat": 4,
 "nbformat_minor": 5
}
